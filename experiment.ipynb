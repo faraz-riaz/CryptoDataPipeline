{
 "cells": [
  {
   "cell_type": "code",
   "execution_count": 7,
   "metadata": {},
   "outputs": [
    {
     "data": {
      "text/html": [
       "<div>\n",
       "<style scoped>\n",
       "    .dataframe tbody tr th:only-of-type {\n",
       "        vertical-align: middle;\n",
       "    }\n",
       "\n",
       "    .dataframe tbody tr th {\n",
       "        vertical-align: top;\n",
       "    }\n",
       "\n",
       "    .dataframe thead th {\n",
       "        text-align: right;\n",
       "    }\n",
       "</style>\n",
       "<table border=\"1\" class=\"dataframe\">\n",
       "  <thead>\n",
       "    <tr style=\"text-align: right;\">\n",
       "      <th></th>\n",
       "      <th>coin_id</th>\n",
       "      <th>price_usd</th>\n",
       "      <th>market_cap_usd</th>\n",
       "      <th>volume_24h_usd</th>\n",
       "      <th>timestamp</th>\n",
       "    </tr>\n",
       "  </thead>\n",
       "  <tbody>\n",
       "    <tr>\n",
       "      <th>0</th>\n",
       "      <td>bitcoin</td>\n",
       "      <td>93599.00000</td>\n",
       "      <td>1.856065e+12</td>\n",
       "      <td>5.193829e+10</td>\n",
       "      <td>2024-12-30 17:58:25.879541</td>\n",
       "    </tr>\n",
       "    <tr>\n",
       "      <th>1</th>\n",
       "      <td>cardano</td>\n",
       "      <td>0.86054</td>\n",
       "      <td>3.085873e+10</td>\n",
       "      <td>9.709757e+08</td>\n",
       "      <td>2024-12-30 17:58:25.879541</td>\n",
       "    </tr>\n",
       "    <tr>\n",
       "      <th>2</th>\n",
       "      <td>ethereum</td>\n",
       "      <td>3380.59000</td>\n",
       "      <td>4.075248e+11</td>\n",
       "      <td>2.304587e+10</td>\n",
       "      <td>2024-12-30 17:58:25.879541</td>\n",
       "    </tr>\n",
       "    <tr>\n",
       "      <th>3</th>\n",
       "      <td>polkadot</td>\n",
       "      <td>6.77000</td>\n",
       "      <td>1.030904e+10</td>\n",
       "      <td>3.237098e+08</td>\n",
       "      <td>2024-12-30 17:58:25.879541</td>\n",
       "    </tr>\n",
       "    <tr>\n",
       "      <th>4</th>\n",
       "      <td>solana</td>\n",
       "      <td>191.03000</td>\n",
       "      <td>9.166343e+10</td>\n",
       "      <td>3.543238e+09</td>\n",
       "      <td>2024-12-30 17:58:25.879541</td>\n",
       "    </tr>\n",
       "  </tbody>\n",
       "</table>\n",
       "</div>"
      ],
      "text/plain": [
       "    coin_id    price_usd  market_cap_usd  volume_24h_usd  \\\n",
       "0   bitcoin  93599.00000    1.856065e+12    5.193829e+10   \n",
       "1   cardano      0.86054    3.085873e+10    9.709757e+08   \n",
       "2  ethereum   3380.59000    4.075248e+11    2.304587e+10   \n",
       "3  polkadot      6.77000    1.030904e+10    3.237098e+08   \n",
       "4    solana    191.03000    9.166343e+10    3.543238e+09   \n",
       "\n",
       "                   timestamp  \n",
       "0 2024-12-30 17:58:25.879541  \n",
       "1 2024-12-30 17:58:25.879541  \n",
       "2 2024-12-30 17:58:25.879541  \n",
       "3 2024-12-30 17:58:25.879541  \n",
       "4 2024-12-30 17:58:25.879541  "
      ]
     },
     "execution_count": 7,
     "metadata": {},
     "output_type": "execute_result"
    }
   ],
   "source": [
    "import pandas as pd\n",
    "\n",
    "# Read the Parquet file\n",
    "df = pd.read_parquet(r'data\\latest.parquet', engine='pyarrow')  # Or 'fastparquet'\n",
    "\n",
    "# Display the DataFrame\n",
    "df\n"
   ]
  }
 ],
 "metadata": {
  "kernelspec": {
   "display_name": "dataPipeline",
   "language": "python",
   "name": "python3"
  },
  "language_info": {
   "codemirror_mode": {
    "name": "ipython",
    "version": 3
   },
   "file_extension": ".py",
   "mimetype": "text/x-python",
   "name": "python",
   "nbconvert_exporter": "python",
   "pygments_lexer": "ipython3",
   "version": "3.10.10"
  }
 },
 "nbformat": 4,
 "nbformat_minor": 2
}
